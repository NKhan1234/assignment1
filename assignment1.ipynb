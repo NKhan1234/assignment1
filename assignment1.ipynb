{
 "cells": [
  {
   "cell_type": "code",
   "execution_count": null,
   "id": "92e8ec03-8d93-40b7-8b47-8f913be2c5aa",
   "metadata": {},
   "outputs": [],
   "source": [
    "# Q1. How do you comment code in Python? What are the different types of comments?"
   ]
  },
  {
   "cell_type": "code",
   "execution_count": 20,
   "id": "08a8d13d-c6b3-4865-884e-6a19970b0d18",
   "metadata": {},
   "outputs": [],
   "source": [
    "# press ctrl and oblige key simultaneously.single-line, multi-line, and docstring comments."
   ]
  },
  {
   "cell_type": "code",
   "execution_count": 21,
   "id": "e3eb5968-4a96-41e8-8cf7-045083e75498",
   "metadata": {},
   "outputs": [],
   "source": [
    "# Q2. What are variables in Python? How do you declare and assign values to variables?"
   ]
  },
  {
   "cell_type": "code",
   "execution_count": 22,
   "id": "207d0ef2-81b8-42c7-a704-9877e028c3f9",
   "metadata": {},
   "outputs": [],
   "source": [
    "# containers for storing data values. a = 2, b = \"nad\", etc."
   ]
  },
  {
   "cell_type": "code",
   "execution_count": 23,
   "id": "c8b0dd44-20c7-4dc7-b97f-341c2e5c8be4",
   "metadata": {},
   "outputs": [],
   "source": [
    "# Q3. How do you convert one data type to another in Python?"
   ]
  },
  {
   "cell_type": "code",
   "execution_count": 24,
   "id": "3e9b76e5-b398-467e-96bc-29d30601d755",
   "metadata": {},
   "outputs": [
    {
     "data": {
      "text/plain": [
       "str"
      ]
     },
     "execution_count": 24,
     "metadata": {},
     "output_type": "execute_result"
    }
   ],
   "source": [
    "a = 3\n",
    "# 3 is integer\n",
    "# if a = str(3) then \n",
    "# type of is string.\n",
    "a = str(3)\n",
    "type(a)"
   ]
  },
  {
   "cell_type": "code",
   "execution_count": 25,
   "id": "169fa176-d764-41f7-bab3-723dcca74e37",
   "metadata": {},
   "outputs": [],
   "source": [
    "# Q4. How do you write and execute a Python script from the command line?"
   ]
  },
  {
   "cell_type": "code",
   "execution_count": 26,
   "id": "f12e1456-0481-4e65-9c6b-fe02470f20e6",
   "metadata": {},
   "outputs": [],
   "source": [
    "# python first_script.py Hello World! Then you hit the ENTER button from the keyboard, and that's it."
   ]
  },
  {
   "cell_type": "code",
   "execution_count": 27,
   "id": "28e666af-c22d-4d5d-917b-f7218d7039df",
   "metadata": {},
   "outputs": [],
   "source": [
    "# Q5. Given a list my_list = [1, 2, 3, 4, 5], write the code to slice the list and obtain the sub-list [2, 3]."
   ]
  },
  {
   "cell_type": "code",
   "execution_count": 28,
   "id": "842dc42f-5926-4b40-a0e1-3d59bd0b7875",
   "metadata": {},
   "outputs": [
    {
     "data": {
      "text/plain": [
       "[2, 3]"
      ]
     },
     "execution_count": 28,
     "metadata": {},
     "output_type": "execute_result"
    }
   ],
   "source": [
    "my_list = [1, 2, 3, 4, 5]\n",
    "my_list[1:3]"
   ]
  },
  {
   "cell_type": "code",
   "execution_count": 29,
   "id": "c58faf80-54de-4ee8-9d9d-7ecfe592cfd5",
   "metadata": {},
   "outputs": [],
   "source": [
    "# Q6. What is a complex number in mathematics, and how is it represented in Python?"
   ]
  },
  {
   "cell_type": "code",
   "execution_count": 33,
   "id": "7449cd5b-9788-4bcb-aa45-ca9750a0729a",
   "metadata": {},
   "outputs": [],
   "source": [
    "# a = 2+3j\n",
    "# 2 = real number\n",
    "# 3j = imaginary number."
   ]
  },
  {
   "cell_type": "code",
   "execution_count": 31,
   "id": "c30a57a9-bd8d-45c9-a555-5a293311efc6",
   "metadata": {},
   "outputs": [],
   "source": [
    "# Q7. What is the correct way to declare a variable named age and assign the value 25 to it?\n",
    "age = 25"
   ]
  },
  {
   "cell_type": "code",
   "execution_count": 32,
   "id": "81180196-5b41-40fe-8ceb-a46d424af358",
   "metadata": {},
   "outputs": [
    {
     "data": {
      "text/plain": [
       "float"
      ]
     },
     "execution_count": 32,
     "metadata": {},
     "output_type": "execute_result"
    }
   ],
   "source": [
    "# Q8. Declare a variable named price and assign the value 9.99 to it. What data type does this variable\n",
    "# belong to?\n",
    "price = 9.99\n",
    "type(price)"
   ]
  },
  {
   "cell_type": "code",
   "execution_count": null,
   "id": "24abf1b6-29c1-4bda-a5be-590ff3c44e3e",
   "metadata": {},
   "outputs": [],
   "source": [
    "# Q9. Create a variable named name and assign your full name to it as a string. How would you print the\n",
    "# value of this variable?"
   ]
  },
  {
   "cell_type": "code",
   "execution_count": 34,
   "id": "c6d0fe28-e773-4cfc-9891-084ce8a1b160",
   "metadata": {},
   "outputs": [
    {
     "data": {
      "text/plain": [
       "str"
      ]
     },
     "execution_count": 34,
     "metadata": {},
     "output_type": "execute_result"
    }
   ],
   "source": [
    "name = \"Nadeem Khan\"\n",
    "type(name)"
   ]
  },
  {
   "cell_type": "code",
   "execution_count": 35,
   "id": "9c7fe2dc-a00a-43be-af83-193b9b28f950",
   "metadata": {},
   "outputs": [],
   "source": [
    "# Q10. Given the string \"Hello, World!\", extract the substring \"World\"."
   ]
  },
  {
   "cell_type": "code",
   "execution_count": 37,
   "id": "8c10ced4-96a3-470e-94d8-fd01b733eb06",
   "metadata": {},
   "outputs": [
    {
     "data": {
      "text/plain": [
       "'dlroW'"
      ]
     },
     "execution_count": 37,
     "metadata": {},
     "output_type": "execute_result"
    }
   ],
   "source": [
    "a = \"Hello, World!\"\n",
    "a[-2:-7:1]"
   ]
  },
  {
   "cell_type": "code",
   "execution_count": null,
   "id": "10c5c7e1-ba6d-4e1c-abba-14aa6544640a",
   "metadata": {},
   "outputs": [],
   "source": []
  }
 ],
 "metadata": {
  "kernelspec": {
   "display_name": "Python 3 (ipykernel)",
   "language": "python",
   "name": "python3"
  },
  "language_info": {
   "codemirror_mode": {
    "name": "ipython",
    "version": 3
   },
   "file_extension": ".py",
   "mimetype": "text/x-python",
   "name": "python",
   "nbconvert_exporter": "python",
   "pygments_lexer": "ipython3",
   "version": "3.10.8"
  }
 },
 "nbformat": 4,
 "nbformat_minor": 5
}
